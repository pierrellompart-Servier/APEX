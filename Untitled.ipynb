{
 "cells": [
  {
   "cell_type": "code",
   "execution_count": 1,
   "id": "a058d8cf-a481-4a05-a09c-8237ca0489ac",
   "metadata": {
    "tags": []
   },
   "outputs": [],
   "source": [
    "# %load setup.py\n"
   ]
  },
  {
   "cell_type": "code",
   "execution_count": null,
   "id": "c4c18ee0-04b2-4a74-8f9b-0e9f673451b8",
   "metadata": {},
   "outputs": [],
   "source": []
  }
 ],
 "metadata": {
  "environment": {
   "kernel": "propermab",
   "name": "workbench-notebooks.m130",
   "type": "gcloud",
   "uri": "us-docker.pkg.dev/deeplearning-platform-release/gcr.io/workbench-notebooks:m130"
  },
  "kernelspec": {
   "display_name": "ProperMab",
   "language": "python",
   "name": "propermab"
  },
  "language_info": {
   "codemirror_mode": {
    "name": "ipython",
    "version": 3
   },
   "file_extension": ".py",
   "mimetype": "text/x-python",
   "name": "python",
   "nbconvert_exporter": "python",
   "pygments_lexer": "ipython3",
   "version": "3.8.20"
  }
 },
 "nbformat": 4,
 "nbformat_minor": 5
}
